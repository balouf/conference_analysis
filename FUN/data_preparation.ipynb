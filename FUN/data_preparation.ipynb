{
 "cells": [
  {
   "cell_type": "markdown",
   "metadata": {},
   "source": [
    "# Data preparation"
   ]
  },
  {
   "cell_type": "markdown",
   "metadata": {},
   "source": [
    "This notebook is in charge of creating the objects that are used in the paper *Fun with FUN*. After setting a few things (mostly where you want the data to be stored and checking your packages), you only require to execute it once."
   ]
  },
  {
   "cell_type": "markdown",
   "metadata": {},
   "source": [
    "## Packages"
   ]
  },
  {
   "cell_type": "markdown",
   "metadata": {},
   "source": [
    "You need ``Gismo>=0.4.1`` for the Notebook to work."
   ]
  },
  {
   "cell_type": "code",
   "execution_count": 1,
   "metadata": {
    "ExecuteTime": {
     "end_time": "2022-02-18T16:22:54.878639Z",
     "start_time": "2022-02-18T16:22:52.553387Z"
    }
   },
   "outputs": [
    {
     "data": {
      "text/plain": [
       "'0.4.2'"
      ]
     },
     "execution_count": 1,
     "metadata": {},
     "output_type": "execute_result"
    }
   ],
   "source": [
    "import gismo\n",
    "gismo.__version__"
   ]
  },
  {
   "cell_type": "markdown",
   "metadata": {},
   "source": [
    "If you don't have gismo, you can install it from pip (``pip install gismo``), or install it from sources at https://github.com/balouf/gismo\n",
    "\n",
    "If you have an older version of Gismo, upgrade is strongly recommended (``pip install gismo -U``)."
   ]
  },
  {
   "cell_type": "markdown",
   "metadata": {},
   "source": [
    "## Data folder"
   ]
  },
  {
   "cell_type": "markdown",
   "metadata": {},
   "source": [
    "You need to tell where the data will be located. You can just use ``Path(\".\")`` to select your working directory or a different location if you prefer. It is recommended to have at least 2Gb available (you can clean some files afterwards)."
   ]
  },
  {
   "cell_type": "code",
   "execution_count": 3,
   "metadata": {
    "ExecuteTime": {
     "end_time": "2022-02-18T16:23:16.354770Z",
     "start_time": "2022-02-18T16:23:16.330190Z"
    }
   },
   "outputs": [
    {
     "data": {
      "text/plain": [
       "True"
      ]
     },
     "execution_count": 3,
     "metadata": {},
     "output_type": "execute_result"
    }
   ],
   "source": [
    "from pathlib import Path\n",
    "data_folder = Path(\"../../../../../Datasets\")\n",
    "data_folder.exists()"
   ]
  },
  {
   "cell_type": "markdown",
   "metadata": {},
   "source": [
    "## DBLP retrieval"
   ]
  },
  {
   "cell_type": "markdown",
   "metadata": {},
   "source": [
    "This part first retrieves the DBLP database (if you already have a local copy, it is not refreshed by default)."
   ]
  },
  {
   "cell_type": "code",
   "execution_count": 5,
   "metadata": {
    "ExecuteTime": {
     "end_time": "2022-02-18T16:24:21.627870Z",
     "start_time": "2022-02-18T16:24:21.620826Z"
    }
   },
   "outputs": [
    {
     "name": "stdout",
     "output_type": "stream",
     "text": [
      "File ..\\..\\..\\..\\..\\Datasets\\dblp.xml.gz already exists. Use refresh option to overwrite.\n",
      "File ..\\..\\..\\..\\..\\Datasets\\dblp.data already exists. Use refresh option to overwrite.\n"
     ]
    }
   ],
   "source": [
    "from gismo.datasets.dblp import Dblp\n",
    "\n",
    "dblp = Dblp(path=data_folder)\n",
    "dblp.build()"
   ]
  },
  {
   "cell_type": "markdown",
   "metadata": {},
   "source": [
    " After a few minutes, we have something usable by Gismo."
   ]
  },
  {
   "cell_type": "code",
   "execution_count": 6,
   "metadata": {
    "ExecuteTime": {
     "end_time": "2022-02-18T16:24:23.933031Z",
     "start_time": "2022-02-18T16:24:23.818125Z"
    }
   },
   "outputs": [
    {
     "data": {
      "text/plain": [
       "{'type': 'article',\n",
       " 'authors': ['Krishnanand N. Kaipa', 'Carlos W. Morato', 'Satyandra K. Gupta'],\n",
       " 'title': 'Design of Hybrid Cells to Facilitate Safe and Efficient Human-Robot Collaboration During Assembly Operations.',\n",
       " 'year': '2018',\n",
       " 'venue': 'J. Comput. Inf. Sci. Eng.'}"
      ]
     },
     "execution_count": 6,
     "metadata": {},
     "output_type": "execute_result"
    }
   ],
   "source": [
    "from gismo.filesource import FileSource\n",
    "\n",
    "source = FileSource(filename=\"dblp\", path=data_folder)\n",
    "source[500000]"
   ]
  },
  {
   "cell_type": "markdown",
   "metadata": {},
   "source": [
    "We have many articles there:"
   ]
  },
  {
   "cell_type": "code",
   "execution_count": 7,
   "metadata": {
    "ExecuteTime": {
     "end_time": "2022-02-18T16:24:26.252850Z",
     "start_time": "2022-02-18T16:24:26.234801Z"
    }
   },
   "outputs": [
    {
     "data": {
      "text/plain": [
       "5772344"
      ]
     },
     "execution_count": 7,
     "metadata": {},
     "output_type": "execute_result"
    }
   ],
   "source": [
    "len(source)"
   ]
  },
  {
   "cell_type": "markdown",
   "metadata": {},
   "source": [
    "How many unique authors?"
   ]
  },
  {
   "cell_type": "code",
   "execution_count": 8,
   "metadata": {
    "ExecuteTime": {
     "end_time": "2022-02-18T16:25:39.347038Z",
     "start_time": "2022-02-18T16:24:36.569701Z"
    }
   },
   "outputs": [],
   "source": [
    "dblp_authors = {auth for art in source for auth in art['authors']}"
   ]
  },
  {
   "cell_type": "code",
   "execution_count": 9,
   "metadata": {
    "ExecuteTime": {
     "end_time": "2022-02-18T16:25:39.551026Z",
     "start_time": "2022-02-18T16:25:39.350048Z"
    }
   },
   "outputs": [
    {
     "data": {
      "text/plain": [
       "2976175"
      ]
     },
     "execution_count": 9,
     "metadata": {},
     "output_type": "execute_result"
    }
   ],
   "source": [
    "len(dblp_authors)"
   ]
  },
  {
   "cell_type": "markdown",
   "metadata": {},
   "source": [
    "## Loading program committees and authors"
   ]
  },
  {
   "cell_type": "markdown",
   "metadata": {},
   "source": [
    "This data has been semi-automatically processed independently and is shipped with the project. You just need to load it."
   ]
  },
  {
   "cell_type": "code",
   "execution_count": 10,
   "metadata": {
    "ExecuteTime": {
     "end_time": "2022-02-18T16:25:39.566774Z",
     "start_time": "2022-02-18T16:25:39.553022Z"
    }
   },
   "outputs": [
    {
     "data": {
      "text/plain": [
       "dict_keys(['by_year', 'pcs'])"
      ]
     },
     "execution_count": 10,
     "metadata": {},
     "output_type": "execute_result"
    }
   ],
   "source": [
    "import json\n",
    "with open('fun_pcs.json', 'rt', encoding='utf8') as f:\n",
    "    fun_pcs = json.load(f)\n",
    "fun_pcs.keys()"
   ]
  },
  {
   "cell_type": "markdown",
   "metadata": {},
   "source": [
    "`fun_pcs` is a dict with two keys.\n",
    "- `by_year` -> dict that associates year (string) to program committee (list of strings)\n",
    "- `pcs` -> list of all PC chairs (list of strings)"
   ]
  },
  {
   "cell_type": "code",
   "execution_count": 11,
   "metadata": {
    "ExecuteTime": {
     "end_time": "2022-02-18T16:25:39.582518Z",
     "start_time": "2022-02-18T16:25:39.568869Z"
    }
   },
   "outputs": [
    {
     "data": {
      "text/plain": [
       "dict_keys(['1998', '2012', '2021', '2018', '2016', '2010', '2007', '2014', '2002', '2004'])"
      ]
     },
     "execution_count": 11,
     "metadata": {},
     "output_type": "execute_result"
    }
   ],
   "source": [
    "import json\n",
    "with open('fun_authors.json', 'rt', encoding='utf8') as f:\n",
    "    fun_authors = json.load(f)\n",
    "fun_authors.keys()"
   ]
  },
  {
   "cell_type": "markdown",
   "metadata": {},
   "source": [
    "`fun_authors` is a dict with one key per edition.\n"
   ]
  },
  {
   "cell_type": "markdown",
   "metadata": {},
   "source": [
    "Note that we use underscores instead of spaces for the names. This is just a trick to facilitate pre-processing later on."
   ]
  },
  {
   "cell_type": "code",
   "execution_count": 12,
   "metadata": {
    "ExecuteTime": {
     "end_time": "2022-02-18T16:25:39.598042Z",
     "start_time": "2022-02-18T16:25:39.584044Z"
    }
   },
   "outputs": [
    {
     "data": {
      "text/plain": [
       "['Oswin_Aichholzer',\n",
       " 'Alkida_Balliu',\n",
       " 'Pierluigi_Crescenzi',\n",
       " 'Miriam_Di_Ianni',\n",
       " 'David_Eppstein',\n",
       " 'Panagiota_Fatourou',\n",
       " 'Fedor_V._Fomin',\n",
       " 'Pierre_Fraigniaud',\n",
       " 'Magnús_M._Halldórsson',\n",
       " 'Taisuke_Izumi',\n",
       " 'Kei_Kimura',\n",
       " 'Masashi_Kiyomi',\n",
       " 'Lisa_Kohl',\n",
       " 'Irina_Kostitsyna',\n",
       " 'Jayson_Lynch',\n",
       " 'Tillmann_Miltzow',\n",
       " 'Neeldhara_Misra',\n",
       " 'Valia_Mitsou',\n",
       " 'Takaaki_Mizuki',\n",
       " 'Lata_Narayanan',\n",
       " 'Harumichi_Nishimura',\n",
       " 'Yoshio_Okamoto',\n",
       " 'Boaz_Patt-Shamir',\n",
       " 'Andrea_Pietracaprina',\n",
       " 'Sergio_Rajsbaum',\n",
       " 'Adele_A._Rescigno',\n",
       " 'Ryuhei_Uehara',\n",
       " 'Yushi_Uno',\n",
       " 'Virginia_Vassilevska_Williams',\n",
       " 'Aaron_Williams',\n",
       " 'Prudence_W._H._Wong',\n",
       " 'Tom_C._van_der_Zanden']"
      ]
     },
     "execution_count": 12,
     "metadata": {},
     "output_type": "execute_result"
    }
   ],
   "source": [
    "fun_pcs['by_year']['2022']"
   ]
  },
  {
   "cell_type": "code",
   "execution_count": 13,
   "metadata": {
    "ExecuteTime": {
     "end_time": "2022-02-18T16:25:39.614166Z",
     "start_time": "2022-02-18T16:25:39.599155Z"
    }
   },
   "outputs": [
    {
     "data": {
      "text/plain": [
       "['Danny_Krizanc',\n",
       " 'Jurek_Czyzowicz',\n",
       " 'Alon_Itai',\n",
       " 'Massimo_Santini_0001',\n",
       " 'Andrei_Z._Broder',\n",
       " 'Yan_Gérard',\n",
       " 'Prosenjit_Bose',\n",
       " 'Sebastiano_Vigna',\n",
       " 'Wojciech_Szpankowski',\n",
       " 'Tami_Tamir',\n",
       " 'Ronald_I._Becker',\n",
       " 'Erkki_Sutinen',\n",
       " 'Yen-I_Chiang',\n",
       " 'M._Cecilia_Verri',\n",
       " 'Barry_Hayes',\n",
       " 'Paolo_Boldi',\n",
       " 'Michael_Rodeh',\n",
       " 'Joseph_C._Culberson',\n",
       " 'David_Eppstein',\n",
       " 'Renzo_Sprugnoli',\n",
       " 'Maurice_Nivat',\n",
       " 'Refael_Hassin',\n",
       " 'Anil_Maheshwari',\n",
       " 'Steven_S._Seiden',\n",
       " 'Alberto_Pedrotti',\n",
       " 'Evangelos_Kranakis',\n",
       " 'Rudolf_Fleischer',\n",
       " 'Shlomi_Rubinstein',\n",
       " 'Bruno_Simeone',\n",
       " 'Hadas_Shachnai',\n",
       " 'Aviezri_S._Fraenkel',\n",
       " 'Marshall_W._Bern',\n",
       " 'Donatella_Merlini',\n",
       " 'Avrim_Blum',\n",
       " 'Prabhakar_Raghavan',\n",
       " 'Alain_Daurat']"
      ]
     },
     "execution_count": 13,
     "metadata": {},
     "output_type": "execute_result"
    }
   ],
   "source": [
    "fun_authors['1998']"
   ]
  },
  {
   "cell_type": "markdown",
   "metadata": {},
   "source": [
    "How many researchers in the PCs?"
   ]
  },
  {
   "cell_type": "code",
   "execution_count": 14,
   "metadata": {
    "ExecuteTime": {
     "end_time": "2022-02-18T16:25:48.603225Z",
     "start_time": "2022-02-18T16:25:48.585281Z"
    }
   },
   "outputs": [
    {
     "data": {
      "text/plain": [
       "164"
      ]
     },
     "execution_count": 14,
     "metadata": {},
     "output_type": "execute_result"
    }
   ],
   "source": [
    "pcs_people = {auth for year in fun_pcs['by_year'].values() for auth in year}\n",
    "len(pcs_people)"
   ]
  },
  {
   "cell_type": "markdown",
   "metadata": {},
   "source": [
    "How many authors?"
   ]
  },
  {
   "cell_type": "code",
   "execution_count": 15,
   "metadata": {
    "ExecuteTime": {
     "end_time": "2022-02-18T16:25:50.923309Z",
     "start_time": "2022-02-18T16:25:50.898824Z"
    }
   },
   "outputs": [
    {
     "data": {
      "text/plain": [
       "465"
      ]
     },
     "execution_count": 15,
     "metadata": {},
     "output_type": "execute_result"
    }
   ],
   "source": [
    "aus_people = {auth for year in fun_authors.values() for auth in year}\n",
    "len(aus_people)"
   ]
  },
  {
   "cell_type": "markdown",
   "metadata": {},
   "source": [
    "## Corpus reduction"
   ]
  },
  {
   "cell_type": "markdown",
   "metadata": {
    "slideshow": {
     "slide_type": "subslide"
    }
   },
   "source": [
    "DBLP provides references for more than 5,000,000 articles. This is huge. We want to reduce the number of articles. The goal here is twofold:\n",
    "- Smaller datasets are faster, so the reduction will make it easier to perform various experiments;\n",
    "- Reduction is also an occasion to focus on the articles that are the most relevant for the study: we will not reduce randomly, but by selecting articles that are *close* to the FUN community. The focus allows to give more attention to relevant fields/vocabulary."
   ]
  },
  {
   "cell_type": "markdown",
   "metadata": {},
   "source": [
    "### FUN landmarks"
   ]
  },
  {
   "cell_type": "markdown",
   "metadata": {},
   "source": [
    "We re-arrange slighly the content of pcs and authors to make it easier to process afterwards. In details, we flatten the content into a list of dict, each dict having a display name (`name`) and a usable content (`dblp`)."
   ]
  },
  {
   "cell_type": "code",
   "execution_count": 16,
   "metadata": {
    "ExecuteTime": {
     "end_time": "2022-02-18T16:26:39.284152Z",
     "start_time": "2022-02-18T16:26:39.267097Z"
    }
   },
   "outputs": [
    {
     "data": {
      "text/plain": [
       "[{'name': 'pc_1998',\n",
       "  'dblp': 'Giorgio_Ausiello Shimon_Even Zvi_Galil Elena_Lodi Fabrizio_Luccio Jürg_Nievergelt Linda_Pagli David_Peleg Kurt_Mehlhorn Franco_P._Preparata Arnold_L._Rosenberg Nicola_Santoro'},\n",
       " {'name': 'pc_2001',\n",
       "  'dblp': 'Jean-Claude_Bermond Pierluigi_Crescenzi Frank_Dehne Paolo_Ferragina Michele_Flammini Paola_Flocchini Roberto_Grossi Danny_Krizanc Elena_Lodi Linda_Pagli David_Peleg Andrea_Pietracaprina Geppino_Pucci Luca_Trevisan Sergio_Rajsbaum Antonio_Restivo Nicola_Santoro Ugo_Vaccaro Sebastiano_Vigna Tandy_J._Warnow'},\n",
       " {'name': 'pc_2004',\n",
       "  'dblp': 'Lars_Arge Michael_A._Bender Gerth_Stølting_Brodal Pierluigi_Crescenzi Martin_Farach-Colton Paolo_Ferragina Rudolf_Fleischer Paola_Flocchini Pierre_Fraigniaud Roberto_Grossi Stefano_Leonardi Giovanni_Manzini Gonzalo_Navarro Andrea_Pietracaprina Giuseppe_Prencipe Rajeev_Raman Kunihiko_Sadakane Peter_Sanders_0001 Steven_Skiena Christos_D._Zaroliagis'},\n",
       " {'name': 'pc_2007',\n",
       "  'dblp': 'Nancy_M._Amato Nina_Amenta Marcella_Anselmo Anna_Bernasconi_0001 Paolo_Boldi Pierluigi_Crescenzi Irene_Finocchi Luisa_Gargano Sandy_Irani Christos_Kaklamanis Shay_Kutten Fabrizio_Luccio Bernard_Mans Paolo_Penna Geppino_Pucci Andréa_W._Richa Iain_A._Stewart Erkki_Sutinen Denis_Trystram Peter_Widmayer'},\n",
       " {'name': 'pc_2010',\n",
       "  'dblp': 'Ricardo_Baeza-Yates Anne_Bergeron Jean-Claude_Bermond Paolo_Boldi Erik_D._Demaine Leah_Epstein Luisa_Gargano Leszek_Gasieniec Magnús_M._Halldórsson Evangelos_Kranakis Fabrizio_Luccio Michael_Mitzenmacher S._Muthukrishnan_0001 Gonzalo_Navarro Rasmus_Pagh David_Peleg Nadia_Pisanti José_D._P._Rolim Nicola_Santoro Eduardo_Sany_Laber Michael_Segal_0001 Steven_Skiena Shmuel_Zaks'},\n",
       " {'name': 'pc_2012',\n",
       "  'dblp': 'Tetsuo_Asano Jean-Claude_Bermond Allan_Borodin Erik_D._Demaine Luc_Devroye Shlomi_Dolev David_Eppstein Konstantinos_Georgiou Nicolas_Hanusse Elias_Koutsoupias Christos_Kaklamanis Evangelos_Kranakis Mukkai_S._Krishnamoorthy Danny_Krizanc Stefan_Langerman Flaminia_L._Luccio Mohammad_Mahdian Lata_Narayanan Linda_Pagli David_Peleg Mike_Paterson Rajeev_Raman Nicola_Santoro Eduardo_Sany_Laber Andrea_Sgarro Ryuhei_Uehara Ugo_Vaccaro Peter_Widmayer'},\n",
       " {'name': 'pc_2014',\n",
       "  'dblp': 'Jérémie_Chalopin Pierluigi_Crescenzi Shantanu_Das_0001 Josep_Díaz Paolo_Ferragina Fedor_V._Fomin Pierre_Fraigniaud Leszek_Gasieniec Fabrizio_Grandoni_0001 Evangelos_Kranakis Danny_Krizanc Flaminia_L._Luccio Matús_Mihalák Linda_Pagli David_Peleg Paolo_Penna Giuseppe_Persiano Giuseppe_Prencipe José_D._P._Rolim Piotr_Sankowski Ryuhei_Uehara Peter_Widmayer Christos_D._Zaroliagis'},\n",
       " {'name': 'pc_2016',\n",
       "  'dblp': 'Oswin_Aichholzer Michael_A._Bender Vincenzo_Bonifaci Jaroslaw_Byrka Parinya_Chalermsook Mirela_Damian Erik_D._Demaine Matthias_Englert David_Eppstein Jeff_Erickson_0001 Irene_Finocchi Fedor_V._Fomin Pierre_Fraigniaud Fabrizio_Grandoni_0001 Roberto_Grossi Robert_A._Hearn John_Iacono Stefan_Langerman Joseph_S._B._Mitchell J._Ian_Munro Mohit_Singh Telikepalli_Kavitha Ryuhei_Uehara Yushi_Uno Giovanni_Viglietta Sebastiano_Vigna Peter_Widmayer Virginia_Vassilevska_Williams'},\n",
       " {'name': 'pc_2018',\n",
       "  'dblp': 'Anna_Bernasconi_0001 Allan_Borodin Artur_Czumaj Erik_D._Demaine David_Eppstein Guy_Even Michele_Flammini Rudolf_Fleischer Paola_Flocchini Fedor_V._Fomin Naveen_Garg_0001 Fabrizio_Grandoni_0001 Takashi_Horiyama John_Iacono Hiro_Ito Marc_J._van_Kreveld Stefan_Langerman Stefano_Leonardi Anna_Lubiw Flaminia_L._Luccio S._Muthukrishnan_0001 Yoshio_Okamoto Mike_Paterson David_Peleg Nadia_Pisanti Geppino_Pucci Laura_Sanità Aravind_Srinivasan Hideki_Tsuiki Ryuhei_Uehara Yushi_Uno Aaron_Williams'},\n",
       " {'name': 'pc_2020',\n",
       "  'dblp': 'Flavia_Bonomo-Braberman Arnaud_Casteigts Graham_Cormode Martin_Farach-Colton Paolo_Ferragina Paola_Flocchini Jie_Gao_0001 Seth_Gilbert Inge_Li_Gørtz John_Iacono Hiro_Ito Chuzo_Iwamoto Tomasz_Jurdzinski Irina_Kostitsyna Michal_Koucký_0001 Stefan_Langerman Giuseppe_Antonio_Di_Luna Javier_Marenco Miguel_A._Mosteiro Yoshio_Okamoto Solon_P._Pissis Simon_J._Puglisi Eva_Rotenberg Shikha_Singh_0002 Akira_Suzuki Ryuhei_Uehara Yushi_Uno Przemyslaw_Uznanski Giovanni_Viglietta Prudence_W._H._Wong Maxwell_Young'},\n",
       " {'name': 'pc_2022',\n",
       "  'dblp': 'Oswin_Aichholzer Alkida_Balliu Pierluigi_Crescenzi Miriam_Di_Ianni David_Eppstein Panagiota_Fatourou Fedor_V._Fomin Pierre_Fraigniaud Magnús_M._Halldórsson Taisuke_Izumi Kei_Kimura Masashi_Kiyomi Lisa_Kohl Irina_Kostitsyna Jayson_Lynch Tillmann_Miltzow Neeldhara_Misra Valia_Mitsou Takaaki_Mizuki Lata_Narayanan Harumichi_Nishimura Yoshio_Okamoto Boaz_Patt-Shamir Andrea_Pietracaprina Sergio_Rajsbaum Adele_A._Rescigno Ryuhei_Uehara Yushi_Uno Virginia_Vassilevska_Williams Aaron_Williams Prudence_W._H._Wong Tom_C._van_der_Zanden'},\n",
       " {'name': 'pcs',\n",
       "  'dblp': 'Elena_Lodi Linda_Pagli Nicola_Santoro Paolo_Ferragina Roberto_Grossi Pierluigi_Crescenzi Geppino_Pucci Paolo_Boldi Luisa_Gargano Evangelos_Kranakis Danny_Krizanc Flaminia_L._Luccio Peter_Widmayer Erik_D._Demaine Fabrizio_Grandoni_0001 Hiro_Ito Martin_Farach-Colton Ryuhei_Uehara Pierre_Fraigniaud Yushi_Uno'},\n",
       " {'name': 'au_1998',\n",
       "  'dblp': 'Danny_Krizanc Jurek_Czyzowicz Alon_Itai Massimo_Santini_0001 Andrei_Z._Broder Yan_Gérard Prosenjit_Bose Sebastiano_Vigna Wojciech_Szpankowski Tami_Tamir Ronald_I._Becker Erkki_Sutinen Yen-I_Chiang M._Cecilia_Verri Barry_Hayes Paolo_Boldi Michael_Rodeh Joseph_C._Culberson David_Eppstein Renzo_Sprugnoli Maurice_Nivat Refael_Hassin Anil_Maheshwari Steven_S._Seiden Alberto_Pedrotti Evangelos_Kranakis Rudolf_Fleischer Shlomi_Rubinstein Bruno_Simeone Hadas_Shachnai Aviezri_S._Fraenkel Marshall_W._Bern Donatella_Merlini Avrim_Blum Prabhakar_Raghavan Alain_Daurat'},\n",
       " {'name': 'au_2012',\n",
       "  'dblp': 'Leo_Brueggeman Michael_R._Fellows Rudolf_Fleischer Martin_Lackner Christian_Komusiewicz Yiannis_Koutis Andreas_Pfandler Frances_A._Rosamond Fumika_Kino Yushi_Uno Ellen_Gethner David_G._Kirkpatrick Nicholas_Pippenger Terry_Anderson Therese_C._Biedl Ferdinando_Cicalese Wojciech_Rytter Bartosz_Szreder Hiro_Ito Stefan_Langerman Yuichi_Yoshida Stefan_Dobrev Lata_Narayanan Jaroslav_Opatrny Martin_Fürer Markus_Holzer_0001 Sebastian_Jakobi Fedor_V._Fomin Pinar_Heggernes Erik_Jan_van_Leeuwen Giovanni_Viglietta Jirí_Sgall Kirk_Pruhs Gerhard_J._Woeginger Brett_Stevens Aaron_Williams Tillmann_Miltzow Swan_Dubois Sébastien_Tixeuil Nini_Zhu Giuseppe_Persiano Graham_Cormode S._Muthukrishnan_0001 Jinyun_Yan Frédéric_Giroire Alain_Jean-Marie Dorian_Mazauric Nicolas_Nisse Michael_A._Bender Ritwik_Bose Rezaul_Alam_Chowdhury Samuel_McCauley Akira_Suzuki Kei_Uchizawa Takeaki_Uno Esther_M._Arkin Alon_Efrat George_Hart Irina_Kostitsyna Alexander_Kröller Joseph_S._B._Mitchell Valentin_Polishchuk Amr_Elmasry Jyrki_Katajainen Paola_Flocchini Matthew_Kellett Peter_C._Mason Nicola_Santoro Kitty_Meeks Alexander_Scott_0001 David_Eppstein Jakob_Engel Oliver_Ruepp Frank_Sehnke Jorge_Urrutia Sarah_Cannon Mashhood_Ishaque Csaba_D._Tóth Erik_D._Demaine Martin_L._Demaine Yair_N._Minsky Ronald_L._Rivest Mihai_Patrascu Till_Bruckdorfer Michael_Kaufmann_0001 Kevin_J._Lang Michael_Lampis Valia_Mitsou Karolina_Soltys'},\n",
       " {'name': 'au_2021',\n",
       "  'dblp': 'Trevor_Clokie Thomas_F._Lidbetter Antonio_Molina_Lovett Jeffrey_O._Shallit Leon_Witzman Qian_M._Zhou Aiden_Calvert Maxwell_Young David_Eppstein Daniel_Frishberg William_Maxwell Juan_José_Besa_Vial Timothy_Johnson Nil_Mamano Martha_C._Osegueda Fabian_Frei Peter_Rossmanith David_Wehner Ross_Dempsey Charles_Guinn Josh_Brunner Julian_Wellman Lily_Chung Erik_D._Demaine Dylan_H._Hendrickson Adam_Hesterberg Adam_Suhl Avi_Zeff Loïc_Crombez Guilherme_Dias_da_Fonseca Yan_Gerard Suthee_Ruangwises Toshiya_Itoh Joshua_Ani Jeffrey_Bosboom Yevhenii_Diomidov Jayson_Lynch Gennaro_Cordasco Luisa_Gargano Adele_A._Rescigno Alex_Churchill Stella_Biderman Austin_Herrick Aviv_Adler Martin_L._Demaine Quanquan_C._Liu Alexander_Koch_0001 Stefan_Walzer Eryk_Kopczynski William_Kuszmaul Aris_Anagnostopoulos Aristides_Gionis Nikos_Parotsidis Daiki_Miyahara Léo_Robert Pascal_Lafourcade_0001 So_Takeshige Takaaki_Mizuki Kazumasa_Shinagawa Atsuki_Nagao Hideaki_Sone Jérémy_Barbay Bernardo_Subercaseaux Tomasz_Idziaszek Quentin_Bramas Stéphane_Devismes Thomas_Brocken G._Wessel_van_der_Heijden Irina_Kostitsyna Lloyd_E._Lo-Wong Remco_J._A._Surtel Davide_Bilò Luciano_Gualà Stefano_Leucci_0001 Guido_Proietti Giacomo_Scornavacca'},\n",
       " {'name': 'au_2018',\n",
       "  'dblp': 'Matteo_Almanza Stefano_Leucci_0001 Alessandro_Panconesi Paolo_Boldi Sebastiano_Vigna Erik_D._Demaine Joshua_Lockhart Jayson_Lynch Kokichi_Sugihara Kei_Kimura Takuya_Kamehashi Toshihiro_Fujito Davide_Bilò Luciano_Gualà Neeldhara_Misra Guido_Proietti Mirko_Rossi Michael_J._Coulombe Jeffrey_Bosboom Mikhail_Rudoy Manuel_Lafond Heiko_Hamann Christine_Markarian Friedhelm_Meyer_auf_der_Heide Mostafa_Wahby Tatsuya_Sasaki Takaaki_Mizuki Hideaki_Sone Jean-Claude_Bermond Augustin_Chaintreau Guillaume_Ducoffe Dorian_Mazauric Ronald_de_Haan Petra_Wolf_0002 Tami_Tamir Isaac_Grosof Fábio_Botler Andrés_Cristi Ruben_Hoeksma Kevin_Schewior Andreas_Tönnis Chuzo_Iwamoto Masato_Haruishi Tatsuaki_Ibusuki Xavier_Bultel Jannik_Dreier Jean-Guillaume_Dumas Pascal_Lafourcade_0001 Valentin_Polishchuk Leonid_Sedov Zachary_Abel Linus_Hamilton Adam_Hesterberg Justin_Kopinsky Rémy_Belmonte Mehdi_Khosravian_Ghadikolaei Masashi_Kiyomi Michael_Lampis Yota_Otachi Hans_L._Bodlaender Tom_C._van_der_Zanden Florian_D._Schwahn Clemens_Thielen David_Eppstein Guangqi_Cui John_P._Dickerson Naveen_Durvasula William_Gasarch Erik_Metz Jacob_Prinz Naveen_Raman Daniel_Smolyak Sung_Hyun_Yoo Jurek_Czyzowicz Konstantinos_Georgiou Ryan_Killick Evangelos_Kranakis Danny_Krizanc Lata_Narayanan Jaroslav_Opatrny Sunil_M._Shende Naoki_Kitamura Yuya_Kawabata Taisuke_Izumi Markus_Holzer_0001 Jan-Tobias_Maurer Martin_Farach-Colton Kazumasa_Shinagawa'},\n",
       " {'name': 'au_2016',\n",
       "  'dblp': 'Hiro_Ito Takahiro_Ueda Luciano_Gualà Stefano_Leucci_0001 Emanuele_Natale Roberto_Tauraso Takashi_Horiyama Ryuhei_Uehara Haruo_Hosoya Felix_Herter Günter_Rote Davide_Bacciu Vincenzo_Gervasi Giuseppe_Prencipe Xavier_Bultel Jannik_Dreier Jean-Guillaume_Dumas Pascal_Lafourcade_0001 Rudolf_Fleischer Stefan_Langerman Yushi_Uno William_S._Evans Mereke_van_Garderen Maarten_Löffler Valentin_Polishchuk Fabrizio_Luccio Jessica_A._Enright John_D._Faben Nathann_Cohen Mathieu_Hilaire Nicolas_Almeida_Martins Nicolas_Nisse Stéphane_Pérennes Neeldhara_Misra Marzio_De_Biasi Tim_Ophelders Erik_D._Demaine Giovanni_Viglietta Aaron_Williams Francesco_Cambi Pierluigi_Crescenzi Linda_Pagli Michael_A._Bekos Till_Bruckdorfer Henry_Förster Michael_Kaufmann_0001 Simon_Poschenrieder Thomas_Stüber Jean-François_Baffier Man-Kwun_Chiu Yago_Diez Matias_Korman Valia_Mitsou André_van_Renssen Marcel_Roeloffzen Michael_A._Bender Samuel_McCauley Bertrand_Simon Shikha_Singh_0002 Frédéric_Vivien Ahmed_Abdelkader Aditya_Acharya Philip_Dasler Matteo_Almanza Alessandro_Panconesi Stefan_Neumann_0003 Andreas_Wiese Jérémy_Barbay Giuseppe_Antonio_Di_Luna Paola_Flocchini Nicola_Santoro Fermi_Ma Ariel_Schvartzman Erik_Waingarten Scott_Aaronson'},\n",
       " {'name': 'au_2010',\n",
       "  'dblp': 'Rudolf_Fleischer Gerhard_J._Woeginger Oliver_Ruepp Markus_Holzer_0001 Tami_Tamir Amr_Elmasry Claus_Jensen Jyrki_Katajainen Erik_D._Demaine Martin_L._Demaine Ryuhei_Uehara Takeaki_Uno Yushi_Uno Peter_Burcsi Ferdinando_Cicalese Gabriele_Fici Zsuzsanna_Lipták Oren_Ben-Zwi Guy_Wolfovitz Riccardo_Focardi Flaminia_L._Luccio Peter_Boothe Mohammad_Mahdian Roberto_Grossi Alessio_Orlandi Giuseppe_Ottaviano Nathann_Cohen David_Coudert Dorian_Mazauric Napoleão_Nepomuceno Nicolas_Nisse Paul_G._Spirakis Ioannis_Chatzigiannakis Georgios_Mylonas Panagiota_N._Panagopoulou Michal_Forisek Magnús_M._Halldórsson Hadas_Shachnai Yu-Feng_Chien Wing-Kai_Hon Domenico_Cantone Simone_Faro Emanuele_Giaquinta Irina_Kostitsyna Valentin_Polishchuk Pierre_McKenzie Tetsuo_Asano Patrick_Healy Evangelos_Kranakis Danny_Krizanc Prabhakar_Raghavan David_Arthur Raphaël_Clifford Markus_Jalsenius Ashley_Montanaro Benjamin_Sach Frank_Ruskey Aaron_Williams Arpita_Ghosh Nieves_R._Brisaboa Miguel_Rodríguez_Luaces Gonzalo_Navarro Diego_Seco Tao_Cao Khalegh_Mamakani Dimitrios_I._Diochnos Paola_Flocchini Matthew_Kellett Peter_C._Mason Nicola_Santoro Anna_Bernasconi_0001 Valentina_Ciriani Fabrizio_Luccio Linda_Pagli Marco_Bressan_0002 Enoch_Peserico Travis_Gagie Anthony_J._Macula Martin_Milanic Eberhard_Triesch'},\n",
       " {'name': 'au_2007',\n",
       "  'dblp': 'Giuseppe_Di_Battista Fabrizio_Frati Maurizio_Patrignani Hermann_Gruber Markus_Holzer_0001 Oliver_Ruepp André_H._Deutz Rudy_van_Vliet Hendrik_Jan_Hoogeboom Shlomi_Dolev Hen_Fitoussi Paolo_Boldi Flavio_Chierichetti Sebastiano_Vigna Flaminia_L._Luccio Michal_Forisek Helmut_Alt Hans_L._Bodlaender Marc_J._van_Kreveld Günter_Rote Gerard_Tel Michael_Lampis Valia_Mitsou Kunal_Agrawal Michael_A._Bender Jeremy_T._Fineman Daniel_Andersson Ronen_Gradwohl Moni_Naor Benny_Pinkas Guy_N._Rothblum Hans-Joachim_Böckenhauer Juraj_Hromkovic Richard_Královic Tobias_Mömke Kathleen_Steinhöfel Yoann_Dieudonné Franck_Petit Rudolf_Fleischer Davide_Baccherini Donatella_Merlini Renzo_Sprugnoli Anna_Bernasconi_0001 Chiara_Bodei Linda_Pagli Kazuo_Iwama Eiji_Miyano Hirotaka_Ono Fabrizio_Luccio Luca_Trevisan Nicola_Santoro Mordechai_Shalom Walter_Unger Shmuel_Zaks'},\n",
       " {'name': 'au_2014',\n",
       "  'dblp': 'Erik_D._Demaine Fermi_Ma Erik_Waingarten Bang_Ye_Wu Katsuhisa_Yamanaka Takehiro_Ito Jun_Kawahara Masashi_Kiyomi Yoshio_Okamoto Toshiki_Saitoh Akira_Suzuki Kei_Uchizawa Takeaki_Uno Minghui_Jiang_0001 Pedro_J._Tejada Haitao_Wang_0001 Michael_Brand Vincenzo_Gervasi Giuseppe_Prencipe Valerio_Volpi Jannik_Dreier Hugo_Jonker Pascal_Lafourcade_0001 Guillaume_Fertin Shahrad_Jamshidi Christian_Komusiewicz Greg_Aloupis Alan_Guo Giovanni_Viglietta Andrei_Asinowski Balázs_Keszegh Tillmann_Miltzow Shantanu_Das_0001 Paola_Flocchini Nicola_Santoro Paolo_Boldi Rudolf_Fleischer Tao_Zhang Ferdinando_Cicalese Gennaro_Cordasco Luisa_Gargano Martin_Milanic Joseph_G._Peters Ugo_Vaccaro Martin_L._Demaine Takaaki_Mizuki Hiroki_Shizuya Takashi_Horiyama Ryuhei_Uehara Yushi_Uno Yukiko_Yamauchi Vladimir_G._Deineko Gerhard_J._Woeginger Peter_Burcsi Gabriele_Fici Zsuzsanna_Lipták Frank_Ruskey Joe_Sawada Konstantinos_Georgiou Evangelos_Kranakis Danny_Krizanc Christos_Levcopoulos Andrzej_Lingas Bengt_J._Nilsson Pawel_Zylinski Md._Jawaherul_Alam Stephen_G._Kobourov Sergey_Pupyrev Jackson_Toeniskoetter Kazuya_Haraguchi Hirotaka_Ono Palash_Dey Prachi_Goyal Neeldhara_Misra Ke_Chen_0011 Adrian_Dumitrescu Irina_Kostitsyna Maarten_Löffler Valentin_Polishchuk Barbara_Keller David_Peleg Roger_Wattenhofer Harrah_Essed Wei_Therese Sven_Oliver_Krumke Florian_D._Schwahn Clemens_Thielen Michele_Borassi Pierluigi_Crescenzi Michel_Habib Walter_A._Kosters Andrea_Marino Frank_W._Takes'},\n",
       " {'name': 'au_2002',\n",
       "  'dblp': 'Steven_S._Seiden David_Peleg Elena_Lodi Linda_Pagli Nicola_Santoro Paolo_Boldi Massimo_Santini_0001 Sebastiano_Vigna Alon_Itai Michael_Rodeh Hadas_Shachnai Fabrizio_Luccio Donatella_Merlini Renzo_Sprugnoli M._Cecilia_Verri Alberto_Pedrotti Aviezri_S._Fraenkel Alain_Daurat Yan_Gérard Maurice_Nivat Ronald_I._Becker Bruno_Simeone Yen-I_Chiang'},\n",
       " {'name': 'au_2004',\n",
       "  'dblp': 'Valentina_Ciriani Nadia_Pisanti Anna_Bernasconi_0001 Elena_Lodi Linda_Pagli Nicola_Santoro Donatella_Merlini Renzo_Sprugnoli M._Cecilia_Verri Riccardo_Focardi Flaminia_L._Luccio Pierre_Fraigniaud Christian_S._Collberg Todd_A._Proebsting Giusi_Castiglione Antonio_Restivo Sergio_Salemi Ferdinando_Cicalese Luisa_Gargano Ugo_Vaccaro Pat_Morin Jason_Morrison Pilu_Crescenzi Federico_Montecalvo Gianluca_Rossi Alberto_Del_Lungo Maurice_Nivat Renzo_Pinzani Simone_Rinaldi Therese_C._Biedl Timothy_M._Chan Erik_D._Demaine Rudolf_Fleischer Mordecai_J._Golin James_A._King J._Ian_Munro Vincenzo_Gervasi Giuseppe_Prencipe Markus_Holzer_0001 Waltraud_Holzer'}]"
      ]
     },
     "execution_count": 16,
     "metadata": {},
     "output_type": "execute_result"
    }
   ],
   "source": [
    "funs_lmks = [{'name': f\"pc_{k}\", 'dblp': \" \".join(v)} for k, v in fun_pcs['by_year'].items()]\n",
    "funs_lmks.append({'name': 'pcs', 'dblp': \" \".join(fun_pcs['pcs'])})\n",
    "funs_lmks += [{'name': f\"au_{k}\", 'dblp': \" \".join(v)} for k, v in fun_authors.items()]\n",
    "funs_lmks"
   ]
  },
  {
   "cell_type": "markdown",
   "metadata": {},
   "source": [
    "### Gismo on DBLP authors"
   ]
  },
  {
   "cell_type": "markdown",
   "metadata": {},
   "source": [
    "This part builds a Gismo on authors (a bipartite graph between articles and authors with stochastic TF-IDTF weights)."
   ]
  },
  {
   "cell_type": "markdown",
   "metadata": {},
   "source": [
    "This is just initialization stuff."
   ]
  },
  {
   "cell_type": "code",
   "execution_count": 17,
   "metadata": {
    "ExecuteTime": {
     "end_time": "2022-02-18T16:27:26.237268Z",
     "start_time": "2022-02-18T16:27:26.220267Z"
    }
   },
   "outputs": [],
   "source": [
    "from gismo.corpus import Corpus\n",
    "from gismo.embedding import Embedding\n",
    "from gismo.gismo import Gismo\n",
    "from sklearn.feature_extraction.text import CountVectorizer\n",
    "vectorizer_author = CountVectorizer(dtype=float, preprocessor=lambda x:x, tokenizer=lambda x: x.split(' '))"
   ]
  },
  {
   "cell_type": "markdown",
   "metadata": {},
   "source": [
    "This part tells how to convert a DBLP article dict from the source into a string representation of authors."
   ]
  },
  {
   "cell_type": "code",
   "execution_count": 18,
   "metadata": {
    "ExecuteTime": {
     "end_time": "2022-02-18T16:27:35.240640Z",
     "start_time": "2022-02-18T16:27:35.234140Z"
    }
   },
   "outputs": [],
   "source": [
    "def to_authors_text(dic):\n",
    "    return \" \".join([a.replace(' ', '_') for a in dic['authors']])\n",
    "corpus = Corpus(source, to_text=to_authors_text)"
   ]
  },
  {
   "cell_type": "markdown",
   "metadata": {},
   "source": [
    "This builds the embedding (the actual weighted bipartite graph between articles and authors)."
   ]
  },
  {
   "cell_type": "code",
   "execution_count": 19,
   "metadata": {
    "ExecuteTime": {
     "end_time": "2022-02-18T16:29:45.076515Z",
     "start_time": "2022-02-18T16:27:46.464746Z"
    }
   },
   "outputs": [],
   "source": [
    "embedding = Embedding(vectorizer=vectorizer_author)\n",
    "embedding.fit_transform(corpus)"
   ]
  },
  {
   "cell_type": "markdown",
   "metadata": {},
   "source": [
    "The Gismo is the object that glues all pieces together."
   ]
  },
  {
   "cell_type": "code",
   "execution_count": 20,
   "metadata": {
    "ExecuteTime": {
     "end_time": "2022-02-18T16:29:45.091972Z",
     "start_time": "2022-02-18T16:29:45.080211Z"
    }
   },
   "outputs": [],
   "source": [
    "gismo = Gismo(corpus, embedding)"
   ]
  },
  {
   "cell_type": "markdown",
   "metadata": {},
   "source": [
    "Gismo can do many things that we don't need right know. For example, it can easily tell your closest co-authors (including yourself)."
   ]
  },
  {
   "cell_type": "code",
   "execution_count": 21,
   "metadata": {
    "ExecuteTime": {
     "end_time": "2022-02-18T16:29:48.399653Z",
     "start_time": "2022-02-18T16:29:45.094072Z"
    }
   },
   "outputs": [
    {
     "data": {
      "text/plain": [
       "['Fabien_Mathieu',\n",
       " 'Laurent_Viennot',\n",
       " 'Diego_Perino',\n",
       " 'Céline_Comte',\n",
       " 'Julien_Reynier',\n",
       " 'Ludovic_Noirie',\n",
       " 'François_Durand',\n",
       " 'Fabien_de_Montgolfier',\n",
       " 'The_Dang_Huynh',\n",
       " 'Yacine_Boufkhad',\n",
       " 'Thomas_Bonald',\n",
       " 'Ilkka_Norros',\n",
       " 'Mohamed_Bouklit',\n",
       " 'Anh-Tuan_Gai',\n",
       " 'François_Baccelli',\n",
       " 'Nidhi_Hegde_0001',\n",
       " 'Gheorghe_Postelnicu',\n",
       " 'Anne_Bouillard',\n",
       " 'Dohy_Hong']"
      ]
     },
     "execution_count": 21,
     "metadata": {},
     "output_type": "execute_result"
    }
   ],
   "source": [
    "gismo.rank(\"Fabien_Mathieu\")\n",
    "gismo.get_features_by_rank()"
   ]
  },
  {
   "cell_type": "code",
   "execution_count": 22,
   "metadata": {
    "ExecuteTime": {
     "end_time": "2022-02-18T16:29:51.199209Z",
     "start_time": "2022-02-18T16:29:48.402620Z"
    }
   },
   "outputs": [
    {
     "data": {
      "text/plain": [
       "['Sébastien_Tixeuil',\n",
       " 'Mikhail_Nesterenko',\n",
       " 'Maria_Potop-Butucaru',\n",
       " 'Toshimitsu_Masuzawa',\n",
       " 'Quentin_Bramas',\n",
       " 'Swan_Dubois',\n",
       " 'Alexandre_Maurer',\n",
       " 'Lélia_Blin',\n",
       " 'Stéphane_Devismes',\n",
       " 'Maria_Gradinariu_Potop-Butucaru',\n",
       " 'Fukuhito_Ooshita',\n",
       " 'Zohir_Bouzid',\n",
       " 'Silvia_Bonomi',\n",
       " 'Sylvie_Delaët',\n",
       " 'Anissa_Lamani',\n",
       " 'Ajoy_Kumar_Datta',\n",
       " 'Xavier_Urbain',\n",
       " 'Adam_Heriban',\n",
       " 'Giovanni_Farina',\n",
       " 'Xavier_Défago',\n",
       " 'Maria_Gradinariu',\n",
       " 'Franck_Petit',\n",
       " 'Lionel_Rieg']"
      ]
     },
     "execution_count": 22,
     "metadata": {},
     "output_type": "execute_result"
    }
   ],
   "source": [
    "gismo.rank('Sébastien_Tixeuil')\n",
    "gismo.get_features_by_rank()"
   ]
  },
  {
   "cell_type": "markdown",
   "metadata": {
    "ExecuteTime": {
     "end_time": "2021-02-19T15:16:36.090413Z",
     "start_time": "2021-02-19T15:16:36.081417Z"
    }
   },
   "source": [
    "### Reducing the number of articles"
   ]
  },
  {
   "cell_type": "markdown",
   "metadata": {},
   "source": [
    "Through the Landmarks submodule, Gismo can associate some arbitrary items (like program committee or authors of an edition) to articles and/or authors.\n",
    "\n",
    "The following lines tell to associate to each entry of `funs_lmk` to up-to 20,000 articles, which will be selected by Gismo, and to build a selection of articles by merging all results."
   ]
  },
  {
   "cell_type": "code",
   "execution_count": 23,
   "metadata": {
    "ExecuteTime": {
     "end_time": "2022-02-18T16:30:07.045399Z",
     "start_time": "2022-02-18T16:30:07.032357Z"
    }
   },
   "outputs": [],
   "source": [
    "from gismo.landmarks import Landmarks\n",
    "landmarks_full = Landmarks(source=funs_lmks, to_text=lambda x: x['dblp'],\n",
    "                                 x_density=20000)"
   ]
  },
  {
   "cell_type": "code",
   "execution_count": 24,
   "metadata": {
    "ExecuteTime": {
     "end_time": "2022-02-18T16:32:55.249022Z",
     "start_time": "2022-02-18T16:30:09.525150Z"
    }
   },
   "outputs": [],
   "source": [
    "reduced_source = landmarks_full.get_reduced_source(gismo)"
   ]
  },
  {
   "cell_type": "code",
   "execution_count": 25,
   "metadata": {
    "ExecuteTime": {
     "end_time": "2022-02-18T16:33:10.749271Z",
     "start_time": "2022-02-18T16:33:10.733618Z"
    }
   },
   "outputs": [
    {
     "name": "stdout",
     "output_type": "stream",
     "text": [
      "Source length went down from 5772344 to 156744.\n"
     ]
    }
   ],
   "source": [
    "print(f\"Source length went down from {len(source)} to {len(reduced_source)}.\")"
   ]
  },
  {
   "cell_type": "markdown",
   "metadata": {},
   "source": [
    "We can close the original DBLP source (the big DBLP source keeps a file open while in use)."
   ]
  },
  {
   "cell_type": "code",
   "execution_count": 26,
   "metadata": {
    "ExecuteTime": {
     "end_time": "2022-02-18T16:33:12.037869Z",
     "start_time": "2022-02-18T16:33:12.030547Z"
    }
   },
   "outputs": [],
   "source": [
    "source.close()"
   ]
  },
  {
   "cell_type": "markdown",
   "metadata": {},
   "source": [
    "How many authors?"
   ]
  },
  {
   "cell_type": "code",
   "execution_count": 28,
   "metadata": {
    "ExecuteTime": {
     "end_time": "2022-02-18T16:33:15.805948Z",
     "start_time": "2022-02-18T16:33:15.650450Z"
    }
   },
   "outputs": [
    {
     "data": {
      "text/plain": [
       "97518"
      ]
     },
     "execution_count": 28,
     "metadata": {},
     "output_type": "execute_result"
    }
   ],
   "source": [
    "reduced_dblp_authors = {auth for art in reduced_source for auth in art['authors']}\n",
    "len(reduced_dblp_authors)"
   ]
  },
  {
   "cell_type": "markdown",
   "metadata": {},
   "source": [
    "## XGismo"
   ]
  },
  {
   "cell_type": "markdown",
   "metadata": {},
   "source": [
    "A XGismo (pronounced *Cross*-Gismo) object merges two bipartite graphs into a new one. Here we will merge a bipartite graph between articles and authors with a bipartite graph between articles and vocabulary, producing a bipartite graph between authors and vocabulary."
   ]
  },
  {
   "cell_type": "markdown",
   "metadata": {},
   "source": [
    "First we rebuild an author graph on the new (reduced) corpus of articles."
   ]
  },
  {
   "cell_type": "code",
   "execution_count": 29,
   "metadata": {
    "ExecuteTime": {
     "end_time": "2022-02-18T16:33:31.571120Z",
     "start_time": "2022-02-18T16:33:30.163633Z"
    }
   },
   "outputs": [],
   "source": [
    "reduced_corpus = Corpus(reduced_source, to_text=to_authors_text)\n",
    "reduced_author_embedding = Embedding(vectorizer=vectorizer_author)\n",
    "reduced_author_embedding.fit_transform(reduced_corpus)"
   ]
  },
  {
   "cell_type": "markdown",
   "metadata": {},
   "source": [
    "Then we build the vocabulary graph.\n",
    "- We use spacy to enhance word selection\n",
    "- We make a few additional tweaks, like filtering by frequency and detection of consecutive words (n-grams)"
   ]
  },
  {
   "cell_type": "code",
   "execution_count": 30,
   "metadata": {
    "ExecuteTime": {
     "end_time": "2022-02-18T16:33:34.499912Z",
     "start_time": "2022-02-18T16:33:32.480651Z"
    }
   },
   "outputs": [],
   "source": [
    "import spacy\n",
    "# Initialize spacy 'en' model, keeping only tagger component needed for lemmatization\n",
    "nlp = spacy.load('en_core_web_sm', disable=['parser', 'ner'])\n",
    "# Who cares about DET and such?\n",
    "keep = {'ADJ', 'NOUN', 'NUM', 'PROPN', 'SYM', 'VERB'}\n",
    "\n",
    "preprocessor=lambda txt: \" \".join([token.lemma_.lower() for token in nlp(txt)\n",
    "                                   if token.pos_ in keep and not token.is_stop])\n",
    "vectorizer_text = CountVectorizer(dtype=float, min_df=5, max_df=.02, ngram_range=[1, 3], preprocessor=preprocessor)"
   ]
  },
  {
   "cell_type": "markdown",
   "metadata": {},
   "source": [
    "Creation of the vocabulary graph (will take a few minutes)."
   ]
  },
  {
   "cell_type": "code",
   "execution_count": 31,
   "metadata": {
    "ExecuteTime": {
     "end_time": "2022-02-18T16:40:37.172213Z",
     "start_time": "2022-02-18T16:33:35.792466Z"
    }
   },
   "outputs": [],
   "source": [
    "reduced_corpus.to_text = lambda e: e['title']\n",
    "reduced_word_embedding = Embedding(vectorizer=vectorizer_text)\n",
    "reduced_word_embedding.fit_transform(reduced_corpus)"
   ]
  },
  {
   "cell_type": "markdown",
   "metadata": {},
   "source": [
    "Now the xgismo can be made from the two graphs."
   ]
  },
  {
   "cell_type": "code",
   "execution_count": 32,
   "metadata": {
    "ExecuteTime": {
     "end_time": "2022-02-18T16:42:08.095601Z",
     "start_time": "2022-02-18T16:42:07.859697Z"
    }
   },
   "outputs": [],
   "source": [
    "from gismo.gismo import XGismo\n",
    "xgismo = XGismo(x_embedding=reduced_author_embedding, y_embedding=reduced_word_embedding)"
   ]
  },
  {
   "cell_type": "markdown",
   "metadata": {},
   "source": [
    "The dimensions of the xgismo (number of authors times vocabulary size):"
   ]
  },
  {
   "cell_type": "code",
   "execution_count": 33,
   "metadata": {
    "ExecuteTime": {
     "end_time": "2022-02-18T16:42:09.273020Z",
     "start_time": "2022-02-18T16:42:09.255627Z"
    }
   },
   "outputs": [
    {
     "data": {
      "text/plain": [
       "<97518x39085 sparse matrix of type '<class 'numpy.float64'>'\n",
       "\twith 2472965 stored elements in Compressed Sparse Row format>"
      ]
     },
     "execution_count": 33,
     "metadata": {},
     "output_type": "execute_result"
    }
   ],
   "source": [
    "xgismo.embedding.x"
   ]
  },
  {
   "cell_type": "markdown",
   "metadata": {},
   "source": [
    "XGismo can link words or researchers to words or researchers. For example:"
   ]
  },
  {
   "cell_type": "code",
   "execution_count": 39,
   "metadata": {
    "ExecuteTime": {
     "end_time": "2022-02-18T16:42:54.511237Z",
     "start_time": "2022-02-18T16:42:54.291528Z"
    }
   },
   "outputs": [
    {
     "data": {
      "text/plain": [
       "True"
      ]
     },
     "execution_count": 39,
     "metadata": {},
     "output_type": "execute_result"
    }
   ],
   "source": [
    "xgismo.rank(\"self-stabilization\")"
   ]
  },
  {
   "cell_type": "code",
   "execution_count": 40,
   "metadata": {
    "ExecuteTime": {
     "end_time": "2022-02-18T16:42:55.368643Z",
     "start_time": "2022-02-18T16:42:55.354107Z"
    }
   },
   "outputs": [
    {
     "data": {
      "text/plain": [
       "['Sébastien_Tixeuil',\n",
       " 'Shlomi_Dolev',\n",
       " 'Toshimitsu_Masuzawa',\n",
       " 'Shay_Kutten',\n",
       " 'Stéphane_Devismes',\n",
       " 'Swan_Dubois',\n",
       " 'Karine_Altisen',\n",
       " 'Bertrand_Ducourthial',\n",
       " 'Masafumi_Yamashita',\n",
       " 'Franck_Petit']"
      ]
     },
     "execution_count": 40,
     "metadata": {},
     "output_type": "execute_result"
    }
   ],
   "source": [
    "xgismo.get_documents_by_rank(k=10)"
   ]
  },
  {
   "cell_type": "code",
   "execution_count": 41,
   "metadata": {
    "ExecuteTime": {
     "end_time": "2022-02-18T16:42:58.070855Z",
     "start_time": "2022-02-18T16:42:58.066356Z"
    }
   },
   "outputs": [
    {
     "data": {
      "text/plain": [
       "['self',\n",
       " 'stabilization',\n",
       " 'stabilize',\n",
       " 'self stabilization',\n",
       " 'self stabilize',\n",
       " 'byzantine',\n",
       " 'distribute',\n",
       " 'stabilizing',\n",
       " 'networks',\n",
       " 'distributed']"
      ]
     },
     "execution_count": 41,
     "metadata": {},
     "output_type": "execute_result"
    }
   ],
   "source": [
    "xgismo.get_features_by_rank(k=10)"
   ]
  },
  {
   "cell_type": "code",
   "execution_count": 42,
   "metadata": {
    "ExecuteTime": {
     "end_time": "2022-02-18T16:43:05.696245Z",
     "start_time": "2022-02-18T16:43:05.432785Z"
    }
   },
   "outputs": [
    {
     "data": {
      "text/plain": [
       "True"
      ]
     },
     "execution_count": 42,
     "metadata": {},
     "output_type": "execute_result"
    }
   ],
   "source": [
    "xgismo.rank(\"Pierre_Fraigniaud\", y=False)"
   ]
  },
  {
   "cell_type": "code",
   "execution_count": 43,
   "metadata": {
    "ExecuteTime": {
     "end_time": "2022-02-18T16:43:06.603584Z",
     "start_time": "2022-02-18T16:43:06.585586Z"
    }
   },
   "outputs": [
    {
     "data": {
      "text/plain": [
       "['Pierre_Fraigniaud',\n",
       " 'Amos_Korman',\n",
       " 'Andrzej_Pelc',\n",
       " 'David_Peleg',\n",
       " 'Cyril_Gavoille',\n",
       " 'Laurent_Feuilloley',\n",
       " 'Michel_Raynal',\n",
       " 'Sergio_Rajsbaum',\n",
       " 'Juho_Hirvonen',\n",
       " 'David_Ilcinkas']"
      ]
     },
     "execution_count": 43,
     "metadata": {},
     "output_type": "execute_result"
    }
   ],
   "source": [
    "xgismo.get_documents_by_rank(k=10)"
   ]
  },
  {
   "cell_type": "code",
   "execution_count": 44,
   "metadata": {
    "ExecuteTime": {
     "end_time": "2022-02-18T16:43:07.497174Z",
     "start_time": "2022-02-18T16:43:07.478082Z"
    }
   },
   "outputs": [
    {
     "data": {
      "text/plain": [
       "['local',\n",
       " 'distribute',\n",
       " 'distributed',\n",
       " 'decision',\n",
       " 'broadcasting',\n",
       " 'exploration',\n",
       " 'local decision',\n",
       " 'tree exploration',\n",
       " 'routing',\n",
       " 'verify']"
      ]
     },
     "execution_count": 44,
     "metadata": {},
     "output_type": "execute_result"
    }
   ],
   "source": [
    "xgismo.get_features_by_rank(k=10)"
   ]
  },
  {
   "cell_type": "markdown",
   "metadata": {},
   "source": [
    "## Saving"
   ]
  },
  {
   "cell_type": "markdown",
   "metadata": {},
   "source": [
    "We can now save the xgismo, which is the only thing we need in addition to the program committees."
   ]
  },
  {
   "cell_type": "code",
   "execution_count": 45,
   "metadata": {
    "ExecuteTime": {
     "end_time": "2022-02-18T16:43:35.369183Z",
     "start_time": "2022-02-18T16:43:21.663843Z"
    }
   },
   "outputs": [],
   "source": [
    "xgismo.save(filename=\"xgismo_fun\", path=data_folder, compress=True, erase=True)"
   ]
  },
  {
   "cell_type": "markdown",
   "metadata": {},
   "source": [
    "## Cleaning (optional)"
   ]
  },
  {
   "cell_type": "markdown",
   "metadata": {},
   "source": [
    "If you don't want to re-use the DBLP database in the future and need to save some space, you can safely remove the DBLP files you have created."
   ]
  },
  {
   "cell_type": "markdown",
   "metadata": {},
   "source": [
    "The list of the files is:"
   ]
  },
  {
   "cell_type": "code",
   "execution_count": 46,
   "metadata": {
    "ExecuteTime": {
     "end_time": "2022-02-18T16:43:44.354710Z",
     "start_time": "2022-02-18T16:43:44.346706Z"
    }
   },
   "outputs": [
    {
     "name": "stdout",
     "output_type": "stream",
     "text": [
      "..\\..\\..\\..\\..\\Datasets\\dblp.data (1028624622 bytes)\n",
      "..\\..\\..\\..\\..\\Datasets\\dblp.dtd (12973 bytes)\n",
      "..\\..\\..\\..\\..\\Datasets\\dblp.index (23089626 bytes)\n",
      "..\\..\\..\\..\\..\\Datasets\\dblp.xml.gz (683059541 bytes)\n"
     ]
    }
   ],
   "source": [
    "for file in data_folder.glob('dblp*'):\n",
    "    if file.is_file():\n",
    "        print(f\"{file} ({file.stat().st_size} bytes)\")"
   ]
  },
  {
   "cell_type": "markdown",
   "metadata": {},
   "source": [
    "If you are OK to delete these files, execute the following cell."
   ]
  },
  {
   "cell_type": "code",
   "execution_count": 32,
   "metadata": {
    "ExecuteTime": {
     "end_time": "2021-02-24T16:12:26.764046Z",
     "start_time": "2021-02-24T16:12:26.619999Z"
    }
   },
   "outputs": [],
   "source": [
    "for file in data_folder.glob('dblp*'):\n",
    "    if file.is_file():\n",
    "        file.unlink()"
   ]
  },
  {
   "cell_type": "markdown",
   "metadata": {},
   "source": [
    "This notebook is finally over. You can now switch to the other one and start playing!"
   ]
  }
 ],
 "metadata": {
  "kernelspec": {
   "display_name": "Python 3 (ipykernel)",
   "language": "python",
   "name": "python3"
  },
  "language_info": {
   "codemirror_mode": {
    "name": "ipython",
    "version": 3
   },
   "file_extension": ".py",
   "mimetype": "text/x-python",
   "name": "python",
   "nbconvert_exporter": "python",
   "pygments_lexer": "ipython3",
   "version": "3.9.7"
  },
  "toc": {
   "base_numbering": 1,
   "nav_menu": {},
   "number_sections": true,
   "sideBar": true,
   "skip_h1_title": true,
   "title_cell": "Table of Contents",
   "title_sidebar": "Contents",
   "toc_cell": false,
   "toc_position": {
    "height": "calc(100% - 180px)",
    "left": "10px",
    "top": "150px",
    "width": "384px"
   },
   "toc_section_display": true,
   "toc_window_display": true
  }
 },
 "nbformat": 4,
 "nbformat_minor": 4
}
